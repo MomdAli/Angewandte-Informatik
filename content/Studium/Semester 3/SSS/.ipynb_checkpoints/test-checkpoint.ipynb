{
 "cells": [
  {
   "cell_type": "code",
   "execution_count": 3,
   "id": "a49c8d96-562a-45b1-a3fa-6ca39aed3db1",
   "metadata": {},
   "outputs": [],
   "source": [
    "from math import cos,"
   ]
  },
  {
   "cell_type": "code",
   "execution_count": null,
   "id": "6a3888ea-3a5d-4bad-ba82-b3fe0c8c83c7",
   "metadata": {},
   "outputs": [],
   "source": [
    "x"
   ]
  }
 ],
 "metadata": {
  "kernelspec": {
   "display_name": "Python 3 (ipykernel)",
   "language": "python",
   "name": "python3"
  },
  "language_info": {
   "codemirror_mode": {
    "name": "ipython",
    "version": 3
   },
   "file_extension": ".py",
   "mimetype": "text/x-python",
   "name": "python",
   "nbconvert_exporter": "python",
   "pygments_lexer": "ipython3",
   "version": "3.9.8"
  }
 },
 "nbformat": 4,
 "nbformat_minor": 5
}
